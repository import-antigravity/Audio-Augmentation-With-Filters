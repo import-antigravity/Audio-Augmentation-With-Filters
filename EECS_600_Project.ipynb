{
 "cells": [
  {
   "cell_type": "code",
   "execution_count": 0,
   "metadata": {
    "colab": {
     "base_uri": "https://localhost:8080/",
     "height": 255
    },
    "colab_type": "code",
    "id": "tpkQxtak3p_i",
    "outputId": "5a89e021-9435-4e0b-a2cc-5d2d9c835e9d"
   },
   "outputs": [
    {
     "name": "stdout",
     "output_type": "stream",
     "text": [
      "Collecting pyroomacoustics\n",
      "\u001b[?25l  Downloading https://files.pythonhosted.org/packages/aa/8b/d022ceb6ec673299074d20a4fb16e076bce21058edd30153ffd3eb152334/pyroomacoustics-0.3.1.tar.gz (172kB)\n",
      "\r",
      "\u001b[K     |██                              | 10kB 17.4MB/s eta 0:00:01\r",
      "\u001b[K     |███▉                            | 20kB 6.9MB/s eta 0:00:01\r",
      "\u001b[K     |█████▊                          | 30kB 9.6MB/s eta 0:00:01\r",
      "\u001b[K     |███████▋                        | 40kB 5.9MB/s eta 0:00:01\r",
      "\u001b[K     |█████████▌                      | 51kB 7.1MB/s eta 0:00:01\r",
      "\u001b[K     |███████████▍                    | 61kB 8.3MB/s eta 0:00:01\r",
      "\u001b[K     |█████████████▎                  | 71kB 9.5MB/s eta 0:00:01\r",
      "\u001b[K     |███████████████▏                | 81kB 10.6MB/s eta 0:00:01\r",
      "\u001b[K     |█████████████████               | 92kB 11.7MB/s eta 0:00:01\r",
      "\u001b[K     |███████████████████             | 102kB 9.5MB/s eta 0:00:01\r",
      "\u001b[K     |█████████████████████           | 112kB 9.5MB/s eta 0:00:01\r",
      "\u001b[K     |██████████████████████▉         | 122kB 9.5MB/s eta 0:00:01\r",
      "\u001b[K     |████████████████████████▊       | 133kB 9.5MB/s eta 0:00:01\r",
      "\u001b[K     |██████████████████████████▋     | 143kB 9.5MB/s eta 0:00:01\r",
      "\u001b[K     |████████████████████████████▌   | 153kB 9.5MB/s eta 0:00:01\r",
      "\u001b[K     |██████████████████████████████▍ | 163kB 9.5MB/s eta 0:00:01\r",
      "\u001b[K     |████████████████████████████████| 174kB 9.5MB/s \n",
      "\u001b[?25hRequirement already satisfied: Cython in /usr/local/lib/python3.6/dist-packages (from pyroomacoustics) (0.29.14)\n",
      "Requirement already satisfied: numpy in /usr/local/lib/python3.6/dist-packages (from pyroomacoustics) (1.17.4)\n",
      "Requirement already satisfied: scipy>=0.18.0 in /usr/local/lib/python3.6/dist-packages (from pyroomacoustics) (1.3.2)\n",
      "Building wheels for collected packages: pyroomacoustics\n",
      "  Building wheel for pyroomacoustics (setup.py) ... \u001b[?25l\u001b[?25hdone\n",
      "  Created wheel for pyroomacoustics: filename=pyroomacoustics-0.3.1-cp36-cp36m-linux_x86_64.whl size=500583 sha256=cc8e8ac70bdd8a386594ced304d16af14a24bb672eb84a4bc882e78969ff1295\n",
      "  Stored in directory: /root/.cache/pip/wheels/c0/52/61/0ddd138323a04e990d2d3e87376aaddd19cecad171f0d0df7d\n",
      "Successfully built pyroomacoustics\n",
      "Installing collected packages: pyroomacoustics\n",
      "Successfully installed pyroomacoustics-0.3.1\n"
     ]
    }
   ],
   "source": [
    "!pip install pyroomacoustics\n",
    "import numpy as np\n",
    "import pyroomacoustics as pra\n",
    "import matplotlib.pyplot as plt\n"
   ]
  },
  {
   "cell_type": "markdown",
   "metadata": {
    "colab_type": "text",
    "id": "oG7dzE9_WWw6"
   },
   "source": [
    "# Data Preparation"
   ]
  },
  {
   "cell_type": "code",
   "execution_count": 0,
   "metadata": {
    "colab": {},
    "colab_type": "code",
    "id": "92FH0xcroiXx"
   },
   "outputs": [],
   "source": [
    "#import dataset\n",
    "#perform preprocessing\n",
    "#divide into train/test sets\n",
    "#"
   ]
  },
  {
   "cell_type": "markdown",
   "metadata": {
    "colab_type": "text",
    "id": "rtM0XNPo4ieg"
   },
   "source": [
    "From Pyroomacoustics Github demo"
   ]
  },
  {
   "cell_type": "code",
   "execution_count": 0,
   "metadata": {
    "colab": {
     "base_uri": "https://localhost:8080/",
     "height": 302
    },
    "colab_type": "code",
    "id": "engkiAVb38mS",
    "outputId": "268ec564-162b-49f0-80e4-51f5a465a3b7"
   },
   "outputs": [
    {
     "name": "stderr",
     "output_type": "stream",
     "text": [
      "'c' argument looks like a single numeric RGB or RGBA sequence, which should be avoided as value-mapping will have precedence in case its length matches with 'x' & 'y'.  Please use a 2-D array with a single row if you really want to specify the same RGB or RGBA value for all points.\n"
     ]
    },
    {
     "data": {
      "image/png": "[encoded data removed]",
      "text/plain": [
       "<Figure size 432x288 with 1 Axes>"
      ]
     },
     "metadata": {
      "tags": []
     },
     "output_type": "display_data"
    }
   ],
   "source": [
    "# Create a 4 by 6 metres shoe box room\n",
    "room = pra.ShoeBox([4,6])\n",
    "\n",
    "# Add a source somewhere in the room\n",
    "room.add_source([2.5, 4.5])\n",
    "\n",
    "# Create a linear array beamformer with 4 microphones\n",
    "# with angle 0 degrees and inter mic distance 10 cm\n",
    "R = pra.linear_2D_array([2, 1.5], 4, 0, 0.1)\n",
    "room.add_microphone_array(pra.Beamformer(R, room.fs))\n",
    "\n",
    "# Now compute the delay and sum weights for the beamformer\n",
    "room.mic_array.rake_delay_and_sum_weights(room.sources[0][:1])\n",
    "\n",
    "# plot the room and resulting beamformer\n",
    "room.plot(freq=[1000, 2000, 4000, 8000], img_order=0)\n",
    "plt.show()"
   ]
  },
  {
   "cell_type": "markdown",
   "metadata": {
    "colab_type": "text",
    "id": "YBE2fCz0VlPR"
   },
   "source": [
    "# Data Distributions\n"
   ]
  },
  {
   "cell_type": "code",
   "execution_count": 0,
   "metadata": {
    "colab": {},
    "colab_type": "code",
    "id": "BXmhzPraKNle"
   },
   "outputs": [],
   "source": [
    "class room_distribution(object):\n",
    "\n",
    "  def __init__(self, num_rooms):\n",
    "    self.rooms = []\n",
    "    #TODO: create a distribution of PRA rooms\n",
    "    for i in range(num_rooms):\n",
    "      dims = np.random.randint(low=1, high=10, size=2)\n",
    "      room = pra.ShoeBox(dims, fs=16000)\n",
    "      self.rooms.append(room)\n",
    "\n",
    "  def sample_source(self, room: pra.Room):\n",
    "    walls = room.walls\n",
    "    for wall in walls:\n",
    "      if wall.corners[0][0] == wall.corners[1][0]:\n",
    "        y_len = np.abs(wall.corners[0][1] - wall.corners[1][1])\n",
    "      else:\n",
    "        x_len = np.abs(wall.corners[0][0] - wall.corners[1][0])\n",
    "    y_pos = np.random.uniform(low=0, high=y_len)\n",
    "    x_pos = np.random.uniform(low=0, high=x_len)\n",
    "    d = []\n",
    "    d.append(x_pos)\n",
    "    d.append(y_pos)\n",
    "    d = np.asarray(d)\n",
    "    #print('dims', x_len, ', ', y_len)\n",
    "    #print('d', d[0], ', ', d[1])\n",
    "    #print(d.shape[0])\n",
    "    return pra.SoundSource(position=d)\n",
    "  \n",
    "  def sample_mic(self, room: pra.Room):\n",
    "    pass\n",
    "\n",
    "  #returns a room populated with a source and microphone array, drawn from the random distributions\n",
    "  def sample(self):\n",
    "    #TODO: add a random source and microphone to a random room, then return\n",
    "    room = np.random.choice(self.rooms)\n",
    "    source = self.sample_source(room)\n",
    "    print(source.dim)\n",
    "    print(np.asarray(source.position).shape[1])\n",
    "    mic = self.sample_mic(room)\n",
    "    room.add_source(source)\n",
    "    #room.add_microphone_array(mic)\n",
    "    return room\n",
    "  "
   ]
  },
  {
   "cell_type": "markdown",
   "metadata": {
    "colab_type": "text",
    "id": "i5g3d4XQrAH7"
   },
   "source": [
    "# Preliminary analysis\n",
    "\n",
    "In this section we analyze the robustness of the classifiers with clean audio in simulated over-the-air environments"
   ]
  },
  {
   "cell_type": "code",
   "execution_count": 0,
   "metadata": {
    "colab": {},
    "colab_type": "code",
    "id": "qr4jx8sYq_Lt"
   },
   "outputs": [],
   "source": [
    "#TODO: set up model(s)"
   ]
  },
  {
   "cell_type": "code",
   "execution_count": 0,
   "metadata": {
    "colab": {},
    "colab_type": "code",
    "id": "6PEUOZMxrO53"
   },
   "outputs": [],
   "source": [
    "#TODO: evaluate model(s) with clean, untransformed signal"
   ]
  },
  {
   "cell_type": "code",
   "execution_count": 0,
   "metadata": {
    "colab": {},
    "colab_type": "code",
    "id": "L1Ta_2AWLx_M"
   },
   "outputs": [],
   "source": [
    "#TODO: transform clean signal and evaluate model(s)"
   ]
  },
  {
   "cell_type": "markdown",
   "metadata": {
    "colab_type": "text",
    "id": "Ri3N8hPr4opP"
   },
   "source": [
    "# Training with Data Augmentation"
   ]
  },
  {
   "cell_type": "code",
   "execution_count": 0,
   "metadata": {
    "colab": {},
    "colab_type": "code",
    "id": "Qs0_jfyxOvdQ"
   },
   "outputs": [],
   "source": []
  },
  {
   "cell_type": "markdown",
   "metadata": {
    "colab_type": "text",
    "id": "67pvqLyrXFfJ"
   },
   "source": [
    "# Final Analysis"
   ]
  },
  {
   "cell_type": "code",
   "execution_count": 0,
   "metadata": {
    "colab": {},
    "colab_type": "code",
    "id": "9xnBoaJvQJK_"
   },
   "outputs": [],
   "source": []
  }
 ],
 "metadata": {
  "colab": {
   "collapsed_sections": [],
   "name": "EECS 600 Project.ipynb",
   "provenance": [],
   "toc_visible": true
  },
  "kernelspec": {
   "display_name": "Python 3",
   "language": "python",
   "name": "python3"
  },
  "language_info": {
   "codemirror_mode": {
    "name": "ipython",
    "version": 3
   },
   "file_extension": ".py",
   "mimetype": "text/x-python",
   "name": "python",
   "nbconvert_exporter": "python",
   "pygments_lexer": "ipython3",
   "version": "3.7.3"
  }
 },
 "nbformat": 4,
 "nbformat_minor": 1
}
